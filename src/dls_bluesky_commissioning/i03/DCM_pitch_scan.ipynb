{
 "cells": [
  {
   "cell_type": "markdown",
   "id": "bb7bedfb-c91c-4e75-a39d-c353eca8f1b0",
   "metadata": {},
   "source": [
    "First create the required ophyd devices (eventually these will be in a separate, shared location)"
   ]
  },
  {
   "cell_type": "code",
   "execution_count": 1,
   "id": "960d509d-e3c6-49a8-8d28-c65047347b3f",
   "metadata": {},
   "outputs": [],
   "source": [
    "from ophyd import Device, EpicsMotor, EpicsSignal, EpicsSignalRO\n",
    "from ophyd import Component as Cpt\n",
    "\n",
    "class DCM(Device):\n",
    "    #upstream_x: EpicsMotor = Cpt(EpicsMotor, '-MO-DET-01:UPSTREAMX')\n",
    "\n",
    "    bragg: EpicsMotor = Cpt(EpicsMotor, '-MO-DCM-01:BRAGG')\n",
    "    roll: EpicsMotor = Cpt(EpicsMotor, '-MO-DCM-01:ROLL')\n",
    "    offset: EpicsMotor = Cpt(EpicsMotor, '-MO-DCM-01:OFFSET')\n",
    "    perp: EpicsMotor = Cpt(EpicsMotor, '-MO-DCM-01:PERP')\n",
    "    energy: EpicsMotor = Cpt(EpicsMotor, '-MO-DCM-01:ENERGY')\n",
    "    pitch: EpicsMotor = Cpt(EpicsMotor, '-MO-DCM-01:PITCH')\n",
    "    wavelength: EpicsMotor = Cpt(EpicsMotor, '-MO-DCM-01:WAVELENGTH')\n",
    "\n",
    "    #temperatures\n",
    "    xtal1_temp: EpicsSignalRO = Cpt(EpicsSignalRO, '-MO-DCM-01:TEMP1')\n",
    "    xtal2_temp: EpicsSignalRO = Cpt(EpicsSignalRO, '-MO-DCM-01:TEMP2')\n",
    "    xtal1_heater_temp: EpicsSignalRO = Cpt(EpicsSignalRO, '-MO-DCM-01:TEMP3')\n",
    "    xtal2_heater_temp: EpicsSignalRO = Cpt(EpicsSignalRO, '-MO-DCM-01:TEMP4')\n",
    "    backplate_temp: EpicsSignalRO = Cpt(EpicsSignalRO, '-MO-DCM-01:TEMP5')\n",
    "    perp_temp: EpicsSignalRO = Cpt(EpicsSignalRO, '-MO-DCM-01:TEMP6')\n",
    "    perp_sub_assembly_temp: EpicsSignalRO = Cpt(EpicsSignalRO, '-MO-DCM-01:TEMP7')"
   ]
  },
  {
   "cell_type": "code",
   "execution_count": 2,
   "id": "a08212be-876f-4234-b715-0869115020ac",
   "metadata": {},
   "outputs": [],
   "source": [
    "from ophyd import Device, EpicsMotor, EpicsSignal, EpicsSignalRO\n",
    "from ophyd import Component as Cpt\n",
    "from ophyd import Kind\n",
    "\n",
    "class QBPM1(Device):\n",
    "    intensity: EpicsSignalRO = Cpt(EpicsSignalRO, '-DI-QBPM-01:INTEN', kind=Kind.normal)"
   ]
  },
  {
   "cell_type": "markdown",
   "id": "00509585-8cc7-4743-a4b6-5220d5140e2f",
   "metadata": {},
   "source": [
    "Now actually run the scan"
   ]
  },
  {
   "cell_type": "markdown",
   "id": "82f615f7-25a2-4f37-9703-98812a25e47a",
   "metadata": {},
   "source": [
    "Some initial setup for running matplotlib"
   ]
  },
  {
   "cell_type": "code",
   "execution_count": 3,
   "id": "2fce16b8-d94f-4173-8a4c-8d178c46b02d",
   "metadata": {},
   "outputs": [],
   "source": [
    "%matplotlib inline\n",
    "from bluesky.utils import install_nb_kicker\n",
    "install_nb_kicker()"
   ]
  },
  {
   "cell_type": "code",
   "execution_count": null,
   "id": "2e49060c-f66a-41b0-a24a-e3264ec31ea2",
   "metadata": {},
   "outputs": [],
   "source": [
    "from bluesky import RunEngine\n",
    "from devices.QBPM1 import QBPM1\n",
    "from devices.DCM import DCM\n",
    "from bluesky.callbacks import LiveTable\n",
    "from bluesky.callbacks.fitting import PeakStats\n",
    "\n",
    "import bluesky.plans as bp\n",
    "import bluesky.plan_stubs as bps\n",
    "\n",
    "\n",
    "qbpm1 = QBPM1(name=\"QBPM1\", prefix=\"BL03I\")\n",
    "dcm = DCM(name=\"DCM\", prefix=\"BL03I\")\n",
    "\n",
    "qbpm1.wait_for_connection()\n",
    "dcm.wait_for_connection()\n",
    "\n",
    "RE=RunEngine({})\n",
    "\n",
    "ps = PeakStats('DCM_pitch', 'QBPM1_intensity')\n",
    "\n",
    "RE(bp.rel_scan([qbpm1.intensity], dcm.pitch, -0.075, 0.075, 30),ps) \n",
    "LiveTable([dcm.pitch,qbpm1.intensity]))\n",
    "\n",
    "print(\"centre\",ps['com'])\n",
    "\n",
    "RE(bps.mv(dcm.pitch, ps['com']))"
   ]
  },
  {
   "cell_type": "code",
   "execution_count": null,
   "id": "19b52b39-b153-42c0-861a-d2dd4ce7b9b8",
   "metadata": {},
   "outputs": [],
   "source": []
  }
 ],
 "metadata": {
  "kernelspec": {
   "display_name": "Python 3 (ipykernel)",
   "language": "python",
   "name": "python3"
  },
  "language_info": {
   "codemirror_mode": {
    "name": "ipython",
    "version": 3
   },
   "file_extension": ".py",
   "mimetype": "text/x-python",
   "name": "python",
   "nbconvert_exporter": "python",
   "pygments_lexer": "ipython3",
   "version": "3.7.2"
  }
 },
 "nbformat": 4,
 "nbformat_minor": 5
}
